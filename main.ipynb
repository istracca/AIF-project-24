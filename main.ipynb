{
 "cells": [
  {
   "cell_type": "markdown",
   "metadata": {},
   "source": [
    "Import libraries"
   ]
  },
  {
   "cell_type": "code",
   "execution_count": null,
   "id": "1b67ff16",
   "metadata": {},
   "outputs": [],
   "source": [
    "import os\n",
    "import sys\n",
    "current_dir = %pwd\n",
    "parent_dir = os.path.abspath(os.path.join(current_dir,'..'))\n",
    "sys.path.append(parent_dir)\n",
    "!git clone https://github.com/istracca/AIF-project-24\n",
    "os.chdir(\"AIF-project-24\")\n",
    "!pip install -r requirements.txt"
   ]
  },
  {
   "cell_type": "code",
   "execution_count": null,
   "id": "e5414002",
   "metadata": {},
   "outputs": [],
   "source": [
    "from utils import *\n",
    "from combination_1 import *\n",
    "from combination_2 import *\n",
    "from Levels import *\n",
    "from MovingLibrary import *"
   ]
  },
  {
   "cell_type": "markdown",
   "id": "ce2bf03a",
   "metadata": {},
   "source": [
    "Choose level, get the map and create joystick"
   ]
  },
  {
   "cell_type": "code",
   "execution_count": null,
   "id": "cfc37a31",
   "metadata": {},
   "outputs": [],
   "source": [
    "MapGame, Enviroment = CreateLevel1()\n",
    "Joystick = Moving(Enviroment)\n",
    "# Facciamo una mossa fittizia per far sì che a partire dalla prossima mossa il lupo si muoverà.\n",
    "NewState = Joystick.Move(inverse_convert((6,5)), inverse_convert((5,5)))\n",
    "MapGame = Map(NewState)"
   ]
  },
  {
   "cell_type": "markdown",
   "id": "8502a254",
   "metadata": {},
   "source": [
    "Define Goal and SuccessorFunction"
   ]
  },
  {
   "cell_type": "code",
   "execution_count": null,
   "id": "1811ab50",
   "metadata": {},
   "outputs": [],
   "source": [
    "Goal = (0,0)\n",
    "def SuccessorFunction(Point):\n",
    "    Result = [(Point[0]-1, Point[1]-1), (Point[0]+1, Point[1]-1),  (Point[0], Point[1]-1),\n",
    "              (Point[0]-1, Point[1]),   (Point[0]+1, Point[1]),    \n",
    "              (Point[0]-1, Point[1]+1), (Point[0]+1, Point[1]+1),  (Point[0], Point[1]+1)]\n",
    "    Result = [x for x in Result if MapGame.get_position_symbol(inverse_convert(x)[0], inverse_convert(x)[1]) in [\".\", \"@\", \"d\", \"<\", \">\"]]\n",
    "    return Result"
   ]
  },
  {
   "cell_type": "markdown",
   "id": "2b957c52",
   "metadata": {},
   "source": [
    "Choose the combination of strategies to use (combination_1 or combination_2)"
   ]
  },
  {
   "cell_type": "code",
   "execution_count": null,
   "id": "948120bb",
   "metadata": {},
   "outputs": [],
   "source": [
    "combination_1(MapGame, Joystick, Goal, SuccessorFunction)"
   ]
  }
 ],
 "metadata": {
  "kernelspec": {
   "display_name": "Python 3 (ipykernel)",
   "language": "python",
   "name": "python3"
  },
  "language_info": {
   "codemirror_mode": {
    "name": "ipython",
    "version": 3
   },
   "file_extension": ".py",
   "mimetype": "text/x-python",
   "name": "python",
   "nbconvert_exporter": "python",
   "pygments_lexer": "ipython3",
   "version": "3.8.18"
  }
 },
 "nbformat": 4,
 "nbformat_minor": 5
}
